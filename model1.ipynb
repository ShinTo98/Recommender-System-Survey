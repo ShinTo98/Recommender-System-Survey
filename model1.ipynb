{
 "cells": [
  {
   "cell_type": "code",
   "execution_count": 21,
   "metadata": {},
   "outputs": [],
   "source": [
    "from collections import defaultdict\n",
    "import numpy as np\n",
    "import math "
   ]
  },
  {
   "cell_type": "code",
   "execution_count": 22,
   "metadata": {},
   "outputs": [],
   "source": [
    "def parseData(fname):\n",
    "  for l in open(fname):\n",
    "    yield eval(l)"
   ]
  },
  {
   "cell_type": "code",
   "execution_count": 23,
   "metadata": {},
   "outputs": [
    {
     "name": "stdout",
     "output_type": "stream",
     "text": [
      "Reading data...\n",
      "Done.\n"
     ]
    }
   ],
   "source": [
    "print(\"Reading data...\")\n",
    "data_user_items = list(parseData(\"./australian_users_items.json\"))\n",
    "print(\"Done.\")"
   ]
  },
  {
   "cell_type": "code",
   "execution_count": 24,
   "metadata": {},
   "outputs": [
    {
     "name": "stdout",
     "output_type": "stream",
     "text": [
      "Reading the second dataset...\n",
      "Done for the second.\n"
     ]
    }
   ],
   "source": [
    "print(\"Reading the second dataset...\")\n",
    "data_user_reviews = list(parseData(\"./australian_user_reviews.json\"))\n",
    "print(\"Done for the second.\")"
   ]
  },
  {
   "cell_type": "code",
   "execution_count": 8,
   "metadata": {},
   "outputs": [],
   "source": [
    "#############Preprocess the data and put them into dictionary############"
   ]
  },
  {
   "cell_type": "code",
   "execution_count": 25,
   "metadata": {},
   "outputs": [],
   "source": [
    "#Since there are users that have more than 1 data entry, we first want to integrate\n",
    "data_integ = defaultdict(list)\n",
    "#the key is the user, the list[0] is the items list, list[1] is the items_count list\n",
    "for d in data_user_items: \n",
    "    user = d['user_id']\n",
    "    items = d['items']\n",
    "    count = d['items_count']\n",
    "    if len(data_integ[user]) == 0: \n",
    "        data_integ[user].append([])\n",
    "        data_integ[user][0].append(items)\n",
    "        data_integ[user].append([])\n",
    "        data_integ[user][1].append(count)\n",
    "    else: \n",
    "        data_integ[user][0].append(items)\n",
    "        data_integ[user][1].append(count)"
   ]
  },
  {
   "cell_type": "code",
   "execution_count": 27,
   "metadata": {},
   "outputs": [
    {
     "name": "stdout",
     "output_type": "stream",
     "text": [
      "87626\n"
     ]
    }
   ],
   "source": [
    "print(len(data_integ.keys()))"
   ]
  },
  {
   "cell_type": "code",
   "execution_count": 31,
   "metadata": {},
   "outputs": [],
   "source": [
    "userIdList = []\n",
    "for key in data_integ.keys(): \n",
    "    userIdList.append(key)"
   ]
  },
  {
   "cell_type": "code",
   "execution_count": 33,
   "metadata": {},
   "outputs": [],
   "source": [
    "#######Random shuffle the data#####\n",
    "np.random.shuffle(userIdList)\n",
    "data_train_userItem = defaultdict(list)\n",
    "data_validation_userItem = defaultdict(list)\n",
    "data_test_userItem = defaultdict(list)\n",
    "index_count = 0 \n",
    "for key in userIdList: \n",
    "    if index_count < 65000: \n",
    "        data_train_userItem[key] = data_integ[key]\n",
    "    elif index_count >= 65000 and index_count < 80000: \n",
    "        data_validation_userItem[key] = data_integ[key]\n",
    "    else: \n",
    "        data_test_userItem[key] = data_integ[key]"
   ]
  },
  {
   "cell_type": "code",
   "execution_count": 40,
   "metadata": {},
   "outputs": [],
   "source": [
    "###########Process to add the item ids into the dictionary###########\n",
    "def getAllAttributes(data_userItems): \n",
    "    user_itemsId = defaultdict(set)\n",
    "    itemsId_user = defaultdict(set)\n",
    "    user_items_forever = defaultdict(defaultdict)\n",
    "    id_names = dict()\n",
    "    \n",
    "    user_count = defaultdict(int)\n",
    "    \n",
    "    for user in data_userItems.keys(): \n",
    "        items_id_list = data_userItems[user][0]\n",
    "        items_count_list = data_userItems[user][1]\n",
    "        \n",
    "        item_id = set() \n",
    "        \n",
    "        for i in items_id_list: \n",
    "            for each in i: \n",
    "                #add the id \n",
    "                item_id.add(each['item_id'])\n",
    "                itemsId_user[each['item_id']].add(user)\n",
    "                \n",
    "                user_items_forever[user][each['item_id']] = each['playtime_forever']\n",
    "                \n",
    "                #corresponde to the name for the id \n",
    "                id_names[each['item_id']] = each['item_name']\n",
    "                \n",
    "        user_itemsId[user] = item_id\n",
    "        c = 0\n",
    "        for i in items_count_list: \n",
    "            c += i \n",
    "        user_count[user] = c \n",
    "    return user_itemsId, itemsId_user, user_items_forever, id_names, user_count "
   ]
  },
  {
   "cell_type": "code",
   "execution_count": 41,
   "metadata": {},
   "outputs": [],
   "source": [
    "user_itemsId, itemsId_user, user_items_forever, id_names, user_count  = getAllAttributes(data_train_userItem)"
   ]
  },
  {
   "cell_type": "code",
   "execution_count": 44,
   "metadata": {},
   "outputs": [],
   "source": [
    "#########Feature 1: the most popular items#############3\n",
    "countUsers = [(len(itemsId_user[key]), key) for key in itemsId_user]\n",
    "countUsers.sort() \n",
    "countUsers.reverse() "
   ]
  },
  {
   "cell_type": "code",
   "execution_count": 45,
   "metadata": {},
   "outputs": [],
   "source": [
    "def mostKItems(k, items): \n",
    "    topK = [x[1] for x in items[0,k]]\n",
    "    return topK"
   ]
  },
  {
   "cell_type": "code",
   "execution_count": 36,
   "metadata": {},
   "outputs": [],
   "source": [
    "#########Feature 2:Calculate item similarity based by purchased Users############\n",
    "def item_similarity(userItems): \n",
    "    N=dict()\n",
    "    C=defaultdict(defaultdict)\n",
    "    W=defaultdict(defaultdict)\n",
    "    for key in userItems: \n",
    "        #the items which are purchased by the user\n",
    "        for i in userItems[key]: \n",
    "            if i not in N.keys(): \n",
    "                N[i] = 0 \n",
    "            N[i] += 1 \n",
    "            for j in userItems[key]: \n",
    "                if i == j: \n",
    "                    continue\n",
    "                if j not in C[i].keys(): \n",
    "                    C[i][j] = 0 \n",
    "                C[i][j] += 1 \n",
    "    print(\"Finish the first part \")\n",
    "    for i, related_item in C.items(): \n",
    "        for j, cij in related_item.items(): \n",
    "            W[i][j] = cij/math.sqrt(N[i]*N[j])\n",
    "    return W"
   ]
  },
  {
   "cell_type": "code",
   "execution_count": 37,
   "metadata": {},
   "outputs": [
    {
     "name": "stdout",
     "output_type": "stream",
     "text": [
      "Finish the first part \n"
     ]
    }
   ],
   "source": [
    "W = item_similarity(user_itemsId) "
   ]
  },
  {
   "cell_type": "code",
   "execution_count": 39,
   "metadata": {},
   "outputs": [],
   "source": [
    "#########Feature 3: calculate user cosine similarity based on forever time#############"
   ]
  },
  {
   "cell_type": "code",
   "execution_count": 40,
   "metadata": {},
   "outputs": [],
   "source": [
    "def norm(user): \n",
    "    norm_v = 0 \n",
    "    for i in user_items_id[user]:\n",
    "        norm_v += user_items_forever[user][i]\n",
    "    return norm_v"
   ]
  },
  {
   "cell_type": "code",
   "execution_count": 41,
   "metadata": {},
   "outputs": [],
   "source": [
    "def allNorms(): \n",
    "    N = defaultdict(int)\n",
    "    for u in user_items.keys():\n",
    "        N[u] = norm(u)\n",
    "    return N "
   ]
  },
  {
   "cell_type": "code",
   "execution_count": 42,
   "metadata": {},
   "outputs": [],
   "source": [
    "N = allNorms() "
   ]
  },
  {
   "cell_type": "code",
   "execution_count": 38,
   "metadata": {},
   "outputs": [],
   "source": [
    "def cosine(items_id_user, user_items_forever, N): \n",
    "    C = defaultdict(defaultdict)\n",
    "    for key in items_id_user: \n",
    "        for u1 in items_id_user[key]:\n",
    "            for u2 in items_id_user[key]: \n",
    "                if u1 == u2: \n",
    "                    continue \n",
    "                if u2 not in C[u1].keys(): \n",
    "                    C[u1][u2] = 0\n",
    "                C[u1][u2] += user_items_forever[u1][key] * user_items_forever[u2][key]\n",
    "\n",
    "    for key in C:\n",
    "        for each in C[key]: \n",
    "            C[key][each] = C[key][each] / (N[key]*N[each])**0.5\n",
    "    return C"
   ]
  },
  {
   "cell_type": "code",
   "execution_count": null,
   "metadata": {},
   "outputs": [],
   "source": [
    "C = cosine(itemsId_user, user_items_forever, N)"
   ]
  },
  {
   "cell_type": "code",
   "execution_count": null,
   "metadata": {},
   "outputs": [],
   "source": []
  }
 ],
 "metadata": {
  "kernelspec": {
   "display_name": "Python 3",
   "language": "python",
   "name": "python3"
  },
  "language_info": {
   "codemirror_mode": {
    "name": "ipython",
    "version": 3
   },
   "file_extension": ".py",
   "mimetype": "text/x-python",
   "name": "python",
   "nbconvert_exporter": "python",
   "pygments_lexer": "ipython3",
   "version": "3.6.5"
  }
 },
 "nbformat": 4,
 "nbformat_minor": 2
}
