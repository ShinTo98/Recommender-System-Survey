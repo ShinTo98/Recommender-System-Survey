{
 "cells": [
  {
   "cell_type": "code",
   "execution_count": 1,
   "metadata": {},
   "outputs": [],
   "source": [
    "from collections import defaultdict\n",
    "import numpy as np\n",
    "import math\n",
    "from collections import Counter\n",
    "import random"
   ]
  },
  {
   "cell_type": "code",
   "execution_count": 2,
   "metadata": {},
   "outputs": [],
   "source": [
    "def parseData(fname):\n",
    "  for l in open(fname):\n",
    "    yield eval(l)"
   ]
  },
  {
   "cell_type": "code",
   "execution_count": 3,
   "metadata": {},
   "outputs": [
    {
     "name": "stdout",
     "output_type": "stream",
     "text": [
      "Reading data...\n",
      "Done for the user_items.\n"
     ]
    }
   ],
   "source": [
    "print(\"Reading data...\")\n",
    "data_user_items = list(parseData(\"./australian_users_items.json\"))\n",
    "print(\"Done for the user_items.\")"
   ]
  },
  {
   "cell_type": "code",
   "execution_count": 4,
   "metadata": {},
   "outputs": [
    {
     "name": "stdout",
     "output_type": "stream",
     "text": [
      "Reading the second dataset...\n",
      "Done for the user_reviews.\n"
     ]
    }
   ],
   "source": [
    "print(\"Reading the second dataset...\")\n",
    "data_user_reviews = list(parseData(\"./australian_user_reviews.json\"))\n",
    "print(\"Done for the user_reviews.\")"
   ]
  },
  {
   "cell_type": "code",
   "execution_count": 5,
   "metadata": {},
   "outputs": [],
   "source": [
    "############# Preprocess the data and put them into dictionary ############"
   ]
  },
  {
   "cell_type": "code",
   "execution_count": 6,
   "metadata": {},
   "outputs": [],
   "source": [
    "# Since there are users that have more than 1 data entry, let's ignore the earlier duplicate.\n",
    "# Sanitize the data where there might be multiple entries of the same user id.\n",
    "# Ignores duplicate.\n",
    "user_item = []\n",
    "users = []\n",
    "for d in data_user_items[: int(len(data_user_items) / 10)]:\n",
    "    user = d['user_id']\n",
    "    \n",
    "    if user in users:\n",
    "        continue\n",
    "        \n",
    "    users.append(user)\n",
    "    items = d['items']\n",
    "    for item in items:\n",
    "        user_item.append([user, item])"
   ]
  },
  {
   "cell_type": "code",
   "execution_count": 7,
   "metadata": {},
   "outputs": [
    {
     "data": {
      "text/plain": [
       "869621"
      ]
     },
     "execution_count": 7,
     "metadata": {},
     "output_type": "execute_result"
    }
   ],
   "source": [
    "len(user_item)"
   ]
  },
  {
   "cell_type": "code",
   "execution_count": 8,
   "metadata": {},
   "outputs": [],
   "source": [
    "####### Random shuffle the data #####\n",
    "np.random.shuffle(user_item)\n",
    "\n",
    "boundary_1 = 0.7\n",
    "boundary_2 = 0.9\n",
    "\n",
    "data_train_userItem = user_item[:int(len(user_item) * boundary_1)]\n",
    "data_validation_userItem = user_item[int(len(user_item) * boundary_1) : int(len(user_item) * boundary_2)]\n",
    "data_test_userItem = user_item[int(len(user_item) * boundary_2):]\n",
    "\n",
    "user_itemIds = defaultdict(set)\n",
    "users = set()\n",
    "itemIds = set()\n",
    "for user, item in data_validation_userItem:\n",
    "    user_itemIds[user].add(item['item_id'])\n",
    "    users.add(user)\n",
    "    itemIds.add(item['item_id'])\n",
    "    \n",
    "users = list(users)\n",
    "itemIds = list(itemIds)\n",
    "\n",
    "for i in range(len(data_validation_userItem)):\n",
    "    while True:\n",
    "        user = users[random.randint(0, len(users) - 1)]\n",
    "        itemId = itemIds[random.randint(0, len(itemIds) - 1)]\n",
    "        if not itemId in user_itemIds[user]:\n",
    "            data_validation_userItem.append([user, {'item_id': itemId}])\n",
    "            break"
   ]
  },
  {
   "cell_type": "code",
   "execution_count": 31,
   "metadata": {},
   "outputs": [],
   "source": [
    "for i in range(len(data_test_userItem)):\n",
    "    while True:\n",
    "        user = users[random.randint(0, len(users) - 1)]\n",
    "        itemId = itemIds[random.randint(0, len(itemIds) - 1)]\n",
    "        if not itemId in user_itemIds[user]:\n",
    "            data_test_userItem.append([user, {'item_id': itemId}])\n",
    "            break"
   ]
  },
  {
   "cell_type": "code",
   "execution_count": 9,
   "metadata": {},
   "outputs": [
    {
     "data": {
      "text/plain": [
       "['76561198073910418',\n",
       " {'item_id': '12240',\n",
       "  'item_name': 'Grand Theft Auto: Vice City',\n",
       "  'playtime_2weeks': 0,\n",
       "  'playtime_forever': 0}]"
      ]
     },
     "execution_count": 9,
     "metadata": {},
     "output_type": "execute_result"
    }
   ],
   "source": [
    "data_train_userItem[1]"
   ]
  },
  {
   "cell_type": "code",
   "execution_count": 10,
   "metadata": {},
   "outputs": [
    {
     "data": {
      "text/plain": [
       "(608734, 347848, 86963)"
      ]
     },
     "execution_count": 10,
     "metadata": {},
     "output_type": "execute_result"
    }
   ],
   "source": [
    "len(data_train_userItem), len(data_validation_userItem), len(data_test_userItem)"
   ]
  },
  {
   "cell_type": "code",
   "execution_count": 11,
   "metadata": {},
   "outputs": [],
   "source": [
    "########### Process to add the item ids into the dictionary ###########\n",
    "def getAllAttributes(data_userItems): \n",
    "    user_itemIds = defaultdict(set)\n",
    "    itemId_users = defaultdict(set)\n",
    "    user_itemId_playtime = defaultdict(lambda: defaultdict(int))\n",
    "    itemId_item = {}\n",
    "    user_itemCount = Counter()\n",
    "    \n",
    "    for user, item in data_train_userItem:\n",
    "        item_id, item_name, playtime = item['item_id'], item['item_name'], item['playtime_forever']\n",
    "        \n",
    "        user_itemIds[user].add(item_id)\n",
    "        itemId_users[item_id].add(user)\n",
    "        user_itemId_playtime[user][item_id] = playtime\n",
    "        itemId_item[item_id] = item\n",
    "        user_itemCount[user] += 1\n",
    "        \n",
    "    return user_itemIds, itemId_users, user_itemId_playtime, itemId_item, user_itemCount "
   ]
  },
  {
   "cell_type": "code",
   "execution_count": 12,
   "metadata": {},
   "outputs": [],
   "source": [
    "user_itemIds, itemId_users, user_itemId_playtime, itemId_item, user_itemCount = getAllAttributes(data_train_userItem)"
   ]
  },
  {
   "cell_type": "code",
   "execution_count": 13,
   "metadata": {},
   "outputs": [],
   "source": [
    "######### Feature 1: the most popular items #############\n",
    "userCount_itemId = [(len(itemId_users[itemId]), itemId) for itemId in itemId_users]\n",
    "userCount_itemId.sort()\n",
    "userCount_itemId.reverse()"
   ]
  },
  {
   "cell_type": "code",
   "execution_count": 14,
   "metadata": {},
   "outputs": [
    {
     "data": {
      "text/plain": [
       "[(4288, '730'),\n",
       " (4207, '4000'),\n",
       " (3993, '205790'),\n",
       " (3809, '304930'),\n",
       " (3486, '223530')]"
      ]
     },
     "execution_count": 14,
     "metadata": {},
     "output_type": "execute_result"
    }
   ],
   "source": [
    "userCount_itemId[:5]"
   ]
  },
  {
   "cell_type": "code",
   "execution_count": 15,
   "metadata": {},
   "outputs": [],
   "source": [
    "def getMostKItemIds(userCount_itemId, k): \n",
    "    return [x[1] for x in userCount_itemId[:k]]"
   ]
  },
  {
   "cell_type": "code",
   "execution_count": 34,
   "metadata": {},
   "outputs": [],
   "source": [
    "def eval_on_(data, pred_function):\n",
    "    tp = fp = tn = fn = 0\n",
    "    progress = 0\n",
    "    progress_percentage = 0\n",
    "    for user, item in data:\n",
    "        \n",
    "        progress += 1\n",
    "        if progress % (len(data) // 500) == 0:\n",
    "            progress_percentage += .2\n",
    "            print('progress: ' + str(progress_percentage) + '%')\n",
    "            \n",
    "        if pred_function(user, item):\n",
    "            \n",
    "            # predicts true.\n",
    "            if 'item_name' in item:\n",
    "                tp += 1\n",
    "            else:\n",
    "                fp += 1\n",
    "                \n",
    "        else:\n",
    "            \n",
    "            # Predicts false.\n",
    "            if not 'item_name' in item:\n",
    "                tn += 1\n",
    "            else:\n",
    "                fn += 1\n",
    "                \n",
    "    return (tp + tn) / (tp + tn + fp + fn)"
   ]
  },
  {
   "cell_type": "code",
   "execution_count": 17,
   "metadata": {},
   "outputs": [
    {
     "data": {
      "text/plain": [
       "347848"
      ]
     },
     "execution_count": 17,
     "metadata": {},
     "output_type": "execute_result"
    }
   ],
   "source": [
    "len(data_validation_userItem)"
   ]
  },
  {
   "cell_type": "code",
   "execution_count": 18,
   "metadata": {},
   "outputs": [],
   "source": [
    "popular_itemIds = getMostKItemIds(userCount_itemId, len(userCount_itemId) // 2) "
   ]
  },
  {
   "cell_type": "code",
   "execution_count": 19,
   "metadata": {},
   "outputs": [
    {
     "name": "stdout",
     "output_type": "stream",
     "text": [
      "progress: 20%\n",
      "progress: 40%\n",
      "progress: 60%\n",
      "progress: 80%\n",
      "progress: 100%\n"
     ]
    },
    {
     "data": {
      "text/plain": [
       "0.6797279271405902"
      ]
     },
     "execution_count": 19,
     "metadata": {},
     "output_type": "execute_result"
    }
   ],
   "source": [
    "def item_popular_f(user, item):\n",
    "    if item['item_id'] in popular_itemIds:\n",
    "        return True\n",
    "    \n",
    "    return False\n",
    "\n",
    "eval_on_(data_validation_userItem, item_popular_f)"
   ]
  },
  {
   "cell_type": "code",
   "execution_count": 20,
   "metadata": {},
   "outputs": [],
   "source": [
    "######### Feature 2: Calculate item Jaccard similarity based on purchased Users ############\n",
    "def item_similarity(user_itemIds):\n",
    "    N = defaultdict(int) # Item maps to its count.\n",
    "    C = defaultdict(lambda: defaultdict(int)) # ItemId maps to another itemId to their number of matches.\n",
    "    W = defaultdict(lambda: defaultdict(int)) # similarity: itemId-itemId intersection / itemId-itemId union\n",
    "    for user in user_itemIds:\n",
    "        \n",
    "        # the items which are purchased by the user.\n",
    "        for i in user_itemIds[user]:\n",
    "            N[i] += 1 \n",
    "            \n",
    "            for j in user_itemIds[user]: \n",
    "                if i == j: \n",
    "                    continue\n",
    "                C[i][j] += 1\n",
    "                C[i]\n",
    "                \n",
    "    print(\"Finished the first part.\")\n",
    "    for i, related_item in C.items(): \n",
    "        for j, cij in related_item.items(): \n",
    "            W[i][j] = cij / (N[i] + N[j] - cij)\n",
    "    return W"
   ]
  },
  {
   "cell_type": "code",
   "execution_count": 21,
   "metadata": {},
   "outputs": [
    {
     "name": "stdout",
     "output_type": "stream",
     "text": [
      "Finished the first part.\n"
     ]
    }
   ],
   "source": [
    "W = item_similarity(user_itemIds)"
   ]
  },
  {
   "cell_type": "code",
   "execution_count": 22,
   "metadata": {},
   "outputs": [
    {
     "name": "stdout",
     "output_type": "stream",
     "text": [
      "progress: 20%\n",
      "progress: 40%\n",
      "progress: 60%\n",
      "progress: 80%\n",
      "progress: 100%\n",
      "0.8492646213288563\n"
     ]
    }
   ],
   "source": [
    "sim_threshold = 0.05\n",
    "cnt_threshold = 0.14\n",
    "def item_similarity_f(user, item):\n",
    "    itemId = item['item_id']\n",
    "    similarCount = 0\n",
    "\n",
    "    count = 0\n",
    "    for cur_itemId in user_itemIds[user]:\n",
    "\n",
    "        if W[itemId][cur_itemId] > sim_threshold:\n",
    "            similarCount += 1\n",
    "\n",
    "    return similarCount > len(user_itemIds[user]) * cnt_threshold\n",
    "\n",
    "print(eval_on_(data_validation_userItem, item_similarity_f))"
   ]
  },
  {
   "cell_type": "code",
   "execution_count": 23,
   "metadata": {},
   "outputs": [
    {
     "name": "stdout",
     "output_type": "stream",
     "text": [
      "progress: 20%\n",
      "progress: 40%\n",
      "progress: 60%\n",
      "progress: 80%\n",
      "progress: 100%\n",
      "0.8510515966560491\n"
     ]
    }
   ],
   "source": [
    "print(eval_on_(data_test_userItem, item_similarity_f))"
   ]
  },
  {
   "cell_type": "code",
   "execution_count": 24,
   "metadata": {},
   "outputs": [],
   "source": [
    "######### Feature 3: calculate user cosine similarity based on playtime forever #############"
   ]
  },
  {
   "cell_type": "code",
   "execution_count": 25,
   "metadata": {},
   "outputs": [],
   "source": [
    "def playtime_total(user): \n",
    "    norm_v = 0 \n",
    "    for i in user_itemIds[user]:\n",
    "        norm_v += user_itemId_playtime[user][i]\n",
    "    return norm_v"
   ]
  },
  {
   "cell_type": "code",
   "execution_count": 26,
   "metadata": {},
   "outputs": [],
   "source": [
    "def all_playtime_total(): \n",
    "    N = defaultdict(int)\n",
    "    for u in user_itemIds.keys():\n",
    "        N[u] = playtime_total(u)\n",
    "    return N "
   ]
  },
  {
   "cell_type": "code",
   "execution_count": 27,
   "metadata": {},
   "outputs": [],
   "source": [
    "all_playtime_total_N = all_playtime_total() "
   ]
  },
  {
   "cell_type": "code",
   "execution_count": 28,
   "metadata": {},
   "outputs": [],
   "source": [
    "def cosine(itemId_users, user_itemId_playtime, all_playtime_total_N): \n",
    "    C = defaultdict(lambda: defaultdict(int))\n",
    "    for key in itemId_users: \n",
    "        for u1 in itemId_users[key]:\n",
    "            for u2 in itemId_users[key]:\n",
    "                if u1 == u2:\n",
    "                    continue\n",
    "                    \n",
    "                C[u1][u2] += user_itemId_playtime[u1][key] * user_itemId_playtime[u2][key]\n",
    "\n",
    "    print(\"Finished the first part.\")\n",
    "    for key in C:\n",
    "        for each in C[key]:\n",
    "            if all_playtime_total_N[key] * all_playtime_total_N[each] == 0:\n",
    "                C[key][each] = 0\n",
    "                continue\n",
    "            C[key][each] = C[key][each] / (all_playtime_total_N[key] * all_playtime_total_N[each])**0.5\n",
    "    return C"
   ]
  },
  {
   "cell_type": "code",
   "execution_count": 29,
   "metadata": {},
   "outputs": [
    {
     "name": "stdout",
     "output_type": "stream",
     "text": [
      "Finished the first part.\n"
     ]
    }
   ],
   "source": [
    "C = cosine(itemId_users, user_itemId_playtime, all_playtime_total_N)"
   ]
  },
  {
   "cell_type": "code",
   "execution_count": 35,
   "metadata": {},
   "outputs": [
    {
     "data": {
      "text/plain": [
       "7679"
      ]
     },
     "execution_count": 35,
     "metadata": {},
     "output_type": "execute_result"
    }
   ],
   "source": [
    "len(C)"
   ]
  },
  {
   "cell_type": "code",
   "execution_count": 33,
   "metadata": {},
   "outputs": [
    {
     "ename": "KeyboardInterrupt",
     "evalue": "",
     "output_type": "error",
     "traceback": [
      "\u001b[0;31m---------------------------------------------------------------------------\u001b[0m",
      "\u001b[0;31mKeyboardInterrupt\u001b[0m                         Traceback (most recent call last)",
      "\u001b[0;32m<ipython-input-33-5ab33c65a298>\u001b[0m in \u001b[0;36m<module>\u001b[0;34m()\u001b[0m\n\u001b[1;32m     20\u001b[0m         \u001b[0;32mreturn\u001b[0m \u001b[0mpurchasedCount\u001b[0m \u001b[0;34m>\u001b[0m \u001b[0mlen\u001b[0m\u001b[0;34m(\u001b[0m\u001b[0msimilarUsers\u001b[0m\u001b[0;34m)\u001b[0m \u001b[0;34m*\u001b[0m \u001b[0mcnt_threshold\u001b[0m\u001b[0;34m\u001b[0m\u001b[0m\n\u001b[1;32m     21\u001b[0m \u001b[0;34m\u001b[0m\u001b[0m\n\u001b[0;32m---> 22\u001b[0;31m     \u001b[0mprint\u001b[0m\u001b[0;34m(\u001b[0m\u001b[0msim_threshold\u001b[0m\u001b[0;34m,\u001b[0m \u001b[0meval_on_\u001b[0m\u001b[0;34m(\u001b[0m\u001b[0mdata_validation_userItem\u001b[0m\u001b[0;34m,\u001b[0m \u001b[0mitem_similarity_f\u001b[0m\u001b[0;34m)\u001b[0m\u001b[0;34m)\u001b[0m\u001b[0;34m\u001b[0m\u001b[0m\n\u001b[0m",
      "\u001b[0;32m<ipython-input-32-9344942bfbd8>\u001b[0m in \u001b[0;36meval_on_\u001b[0;34m(data, pred_function)\u001b[0m\n\u001b[1;32m     10\u001b[0m             \u001b[0mprint\u001b[0m\u001b[0;34m(\u001b[0m\u001b[0;34m'progress: '\u001b[0m \u001b[0;34m+\u001b[0m \u001b[0mstr\u001b[0m\u001b[0;34m(\u001b[0m\u001b[0mprogress_percentage\u001b[0m\u001b[0;34m)\u001b[0m \u001b[0;34m+\u001b[0m \u001b[0;34m'%'\u001b[0m\u001b[0;34m)\u001b[0m\u001b[0;34m\u001b[0m\u001b[0m\n\u001b[1;32m     11\u001b[0m \u001b[0;34m\u001b[0m\u001b[0m\n\u001b[0;32m---> 12\u001b[0;31m         \u001b[0;32mif\u001b[0m \u001b[0mpred_function\u001b[0m\u001b[0;34m(\u001b[0m\u001b[0muser\u001b[0m\u001b[0;34m,\u001b[0m \u001b[0mitem\u001b[0m\u001b[0;34m)\u001b[0m\u001b[0;34m:\u001b[0m\u001b[0;34m\u001b[0m\u001b[0m\n\u001b[0m\u001b[1;32m     13\u001b[0m \u001b[0;34m\u001b[0m\u001b[0m\n\u001b[1;32m     14\u001b[0m             \u001b[0;31m# predicts true.\u001b[0m\u001b[0;34m\u001b[0m\u001b[0;34m\u001b[0m\u001b[0m\n",
      "\u001b[0;32m<ipython-input-33-5ab33c65a298>\u001b[0m in \u001b[0;36mitem_similarity_f\u001b[0;34m(user, item)\u001b[0m\n\u001b[1;32m      8\u001b[0m         \u001b[0mcnt_similarUsers\u001b[0m \u001b[0;34m=\u001b[0m \u001b[0;34m[\u001b[0m\u001b[0;34m]\u001b[0m\u001b[0;34m\u001b[0m\u001b[0m\n\u001b[1;32m      9\u001b[0m         \u001b[0;32mfor\u001b[0m \u001b[0mother_user\u001b[0m \u001b[0;32min\u001b[0m \u001b[0mC\u001b[0m\u001b[0;34m[\u001b[0m\u001b[0muser\u001b[0m\u001b[0;34m]\u001b[0m\u001b[0;34m:\u001b[0m\u001b[0;34m\u001b[0m\u001b[0m\n\u001b[0;32m---> 10\u001b[0;31m             \u001b[0mcnt_similarUsers\u001b[0m\u001b[0;34m.\u001b[0m\u001b[0mappend\u001b[0m\u001b[0;34m(\u001b[0m\u001b[0;34m[\u001b[0m\u001b[0mC\u001b[0m\u001b[0;34m[\u001b[0m\u001b[0muser\u001b[0m\u001b[0;34m]\u001b[0m\u001b[0;34m[\u001b[0m\u001b[0mother_user\u001b[0m\u001b[0;34m]\u001b[0m\u001b[0;34m,\u001b[0m \u001b[0mother_user\u001b[0m\u001b[0;34m]\u001b[0m\u001b[0;34m)\u001b[0m\u001b[0;34m\u001b[0m\u001b[0m\n\u001b[0m\u001b[1;32m     11\u001b[0m         \u001b[0mcnt_similarUsers\u001b[0m\u001b[0;34m.\u001b[0m\u001b[0msort\u001b[0m\u001b[0;34m(\u001b[0m\u001b[0mreverse\u001b[0m\u001b[0;34m=\u001b[0m\u001b[0;32mTrue\u001b[0m\u001b[0;34m)\u001b[0m\u001b[0;34m\u001b[0m\u001b[0m\n\u001b[1;32m     12\u001b[0m         \u001b[0mcnt_similarUsers\u001b[0m \u001b[0;34m=\u001b[0m \u001b[0mcnt_similarUsers\u001b[0m\u001b[0;34m[\u001b[0m\u001b[0;34m:\u001b[0m \u001b[0mint\u001b[0m\u001b[0;34m(\u001b[0m\u001b[0mlen\u001b[0m\u001b[0;34m(\u001b[0m\u001b[0mcnt_similarUsers\u001b[0m\u001b[0;34m)\u001b[0m \u001b[0;34m*\u001b[0m \u001b[0msim_threshold\u001b[0m\u001b[0;34m)\u001b[0m\u001b[0;34m]\u001b[0m\u001b[0;34m\u001b[0m\u001b[0m\n",
      "\u001b[0;31mKeyboardInterrupt\u001b[0m: "
     ]
    }
   ],
   "source": [
    "for i in range(5):\n",
    "    sim_threshold = 0.05 + i * 0.01\n",
    "    cnt_threshold = 0.2\n",
    "    def item_similarity_f(user, item):\n",
    "        itemId = item['item_id']\n",
    "        purchasedCount = 0\n",
    "\n",
    "        cnt_similarUsers = []\n",
    "        for other_user in C[user]:\n",
    "            cnt_similarUsers.append([C[user][other_user], other_user])\n",
    "        cnt_similarUsers.sort(reverse=True)\n",
    "        cnt_similarUsers = cnt_similarUsers[: int(len(cnt_similarUsers) * sim_threshold)]\n",
    "\n",
    "        # Finds out how many similar users have purchased this item before.\n",
    "        similarUsers = [pair[1] for pair in cnt_similarUsers]\n",
    "        for u in similarUsers:\n",
    "            if itemId in user_itemIds[u]:\n",
    "                purchasedCount += 1\n",
    "\n",
    "        return purchasedCount > len(similarUsers) * cnt_threshold\n",
    "\n",
    "    print(sim_threshold, eval_on_(data_validation_userItem, item_similarity_f))"
   ]
  },
  {
   "cell_type": "code",
   "execution_count": null,
   "metadata": {},
   "outputs": [],
   "source": []
  }
 ],
 "metadata": {
  "kernelspec": {
   "display_name": "Python 3",
   "language": "python",
   "name": "python3"
  },
  "language_info": {
   "codemirror_mode": {
    "name": "ipython",
    "version": 3
   },
   "file_extension": ".py",
   "mimetype": "text/x-python",
   "name": "python",
   "nbconvert_exporter": "python",
   "pygments_lexer": "ipython3",
   "version": "3.6.4"
  }
 },
 "nbformat": 4,
 "nbformat_minor": 2
}
