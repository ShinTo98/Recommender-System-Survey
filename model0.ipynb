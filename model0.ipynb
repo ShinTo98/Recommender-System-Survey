{
 "cells": [
  {
   "cell_type": "code",
   "execution_count": 35,
   "metadata": {},
   "outputs": [],
   "source": [
    "from collections import defaultdict\n",
    "import numpy as np\n",
    "import math "
   ]
  },
  {
   "cell_type": "code",
   "execution_count": 13,
   "metadata": {},
   "outputs": [],
   "source": [
    "def parseData(fname):\n",
    "  for l in open(fname):\n",
    "    yield eval(l)"
   ]
  },
  {
   "cell_type": "code",
   "execution_count": 8,
   "metadata": {},
   "outputs": [
    {
     "name": "stdout",
     "output_type": "stream",
     "text": [
      "Reading data...\n",
      "Done.\n"
     ]
    }
   ],
   "source": [
    "print(\"Reading data...\")\n",
    "data_user_items = list(parseData(\"./australian_users_items.json\"))\n",
    "print(\"Done.\")"
   ]
  },
  {
   "cell_type": "code",
   "execution_count": 6,
   "metadata": {},
   "outputs": [
    {
     "name": "stdout",
     "output_type": "stream",
     "text": [
      "Reading the second dataset...\n",
      "Done for the second.\n"
     ]
    }
   ],
   "source": [
    "print(\"Reading the second dataset...\")\n",
    "data_user_reviews = list(parseData(\"./australian_user_reviews.json\"))\n",
    "print(\"Done for the second.\")"
   ]
  },
  {
   "cell_type": "code",
   "execution_count": 7,
   "metadata": {},
   "outputs": [],
   "source": [
    "#############Preprocess the data and put them into dictionary############"
   ]
  },
  {
   "cell_type": "code",
   "execution_count": 16,
   "metadata": {},
   "outputs": [],
   "source": [
    "user_item_count = defaultdict(int)\n",
    "user_items = defaultdict(list)\n",
    "for d in data_user_items: \n",
    "    user = d['user_id']\n",
    "    count = d['items_count']\n",
    "    user_item_count[user] = count \n",
    "    user_items[user] = d['items']"
   ]
  },
  {
   "cell_type": "code",
   "execution_count": 30,
   "metadata": {},
   "outputs": [],
   "source": [
    "###########Process to add the item ids into the dictionary###########\n",
    "def getAllAttributes(user_items): \n",
    "    user_items_id = defaultdict(set)\n",
    "    items_id_user = defaultdict(set)\n",
    "    user_items_forever = defaultdict(defaultdict)\n",
    "    for d in user_items.keys(): \n",
    "        item_per_user = user_items[d]\n",
    "        for i in item_per_user:\n",
    "            user_items_id[d].add(i['item_id'])\n",
    "            items_id_user[i['item_id']].add(d)\n",
    "            user_items_forever[d][i['item_id']] = i['playtime_forever']\n",
    "    return user_items_id, items_id_user, user_items_forever "
   ]
  },
  {
   "cell_type": "code",
   "execution_count": 31,
   "metadata": {},
   "outputs": [],
   "source": [
    "user_items_id, items_id_user, user_items_forever = getAllAttributes(user_items)"
   ]
  },
  {
   "cell_type": "code",
   "execution_count": 36,
   "metadata": {},
   "outputs": [],
   "source": [
    "#########Calculate the Item similarity############\n",
    "def item_similarity(userItems): \n",
    "    N=dict()\n",
    "    C=defaultdict(defaultdict)\n",
    "    W=defaultdict(defaultdict)\n",
    "    for key in userItems: \n",
    "        #the items which are purchased by the user\n",
    "        for i in userItems[key]: \n",
    "            if i not in N.keys(): \n",
    "                N[i] = 0 \n",
    "            N[i] += 1 \n",
    "            for j in userItems[key]: \n",
    "                if i == j: \n",
    "                    continue\n",
    "                if j not in C[i].keys(): \n",
    "                    C[i][j] = 0 \n",
    "                C[i][j] += 1 \n",
    "    print(\"Finish the first part \")\n",
    "    for i, related_item in C.items(): \n",
    "        for j, cij in related_item.items(): \n",
    "            W[i][j] = cij/math.sqrt(N[i]*N[j])\n",
    "    return W"
   ]
  },
  {
   "cell_type": "code",
   "execution_count": 37,
   "metadata": {},
   "outputs": [
    {
     "name": "stdout",
     "output_type": "stream",
     "text": [
      "Finish the first part \n"
     ]
    }
   ],
   "source": [
    "W = item_similarity(user_items_id) "
   ]
  },
  {
   "cell_type": "code",
   "execution_count": 39,
   "metadata": {},
   "outputs": [],
   "source": [
    "#########Calculate the User Similarity between users#############"
   ]
  },
  {
   "cell_type": "code",
   "execution_count": 40,
   "metadata": {},
   "outputs": [],
   "source": [
    "def norm(user): \n",
    "    norm_v = 0 \n",
    "    for i in user_items_id[user]:\n",
    "        norm_v += user_items_forever[user][i]\n",
    "    return norm_v"
   ]
  },
  {
   "cell_type": "code",
   "execution_count": 41,
   "metadata": {},
   "outputs": [],
   "source": [
    "def allNorms(): \n",
    "    N = defaultdict(int)\n",
    "    for u in user_items.keys():\n",
    "        N[u] = norm(u)\n",
    "    return N "
   ]
  },
  {
   "cell_type": "code",
   "execution_count": 42,
   "metadata": {},
   "outputs": [],
   "source": [
    "N = allNorms() "
   ]
  },
  {
   "cell_type": "code",
   "execution_count": 38,
   "metadata": {},
   "outputs": [],
   "source": [
    "def cosine(items_id_user, user_items_forever, N): \n",
    "    C = defaultdict(defaultdict)\n",
    "    for key in items_id_user: \n",
    "        for u1 in items_id_user[key]:\n",
    "            for u2 in items_id_user[key]: \n",
    "                if u1 == u2: \n",
    "                    continue \n",
    "                if u2 not in C[u1].keys(): \n",
    "                    C[u1][u2] = 0\n",
    "                C[u1][u2] += user_items_forever[u1][key] * user_items_forever[u2][key]\n",
    "\n",
    "    for key in C:\n",
    "        for each in C[key]: \n",
    "            C[key][each] = C[key][each] / (N[key]*N[each])**0.5\n",
    "    return C"
   ]
  },
  {
   "cell_type": "code",
   "execution_count": null,
   "metadata": {},
   "outputs": [],
   "source": [
    "C = cosine(items_id_user, user_items_forever, N)"
   ]
  }
 ],
 "metadata": {
  "kernelspec": {
   "display_name": "Python 3",
   "language": "python",
   "name": "python3"
  },
  "language_info": {
   "codemirror_mode": {
    "name": "ipython",
    "version": 3
   },
   "file_extension": ".py",
   "mimetype": "text/x-python",
   "name": "python",
   "nbconvert_exporter": "python",
   "pygments_lexer": "ipython3",
   "version": "3.6.5"
  }
 },
 "nbformat": 4,
 "nbformat_minor": 2
}
